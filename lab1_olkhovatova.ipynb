{
 "cells": [
  {
   "cell_type": "markdown",
   "metadata": {},
   "source": [
    "## Задание 1"
   ]
  },
  {
   "cell_type": "markdown",
   "metadata": {},
   "source": [
    "Дана строка \n",
    "string_01 = “Mama, just killed a man, put a gun against his head, pulled my trigger, now he's dead. Mama, life had just begun, but now I've gone and thrown it all away. Mama, ooh (any way the wind blows), didn't mean to make you cry. If I'm not back again this time tomorrow carry on, carry on as if nothing really matters.” \n",
    "\n",
    "1.Посчитайте, сколько в строке символов (исключая пробелы).\n",
    "2.Посчитайте, сколько в строке слов.\n",
    "3.Напишите функцию, которая будет принимать в качестве аргумента букву и выводить все слова из строки, заканчивающиеся на эту букву (например, “s”).\n",
    "4.Не обязательно: Напишите функцию, которая будет принимать в качестве аргумента букву и выводить все слова из строки, начинающиеся на эту букву (например, “m”)."
   ]
  },
  {
   "cell_type": "code",
   "execution_count": 1,
   "metadata": {},
   "outputs": [],
   "source": [
    "string_01 = 'Mama, just killed a man, put a gun against his head, pulled my trigger, now he is dead.\\\n",
    "Mama, life had just begun, but now I have gone and thrown it all away. Mama, ooh (any way the wind blows), \\\n",
    "did not mean to make you cry. If I am not back again this time tomorrow carry on, carry on as if nothing really matters.' \n"
   ]
  },
  {
   "cell_type": "code",
   "execution_count": 33,
   "metadata": {},
   "outputs": [
    {
     "name": "stdout",
     "output_type": "stream",
     "text": [
      "251\n"
     ]
    }
   ],
   "source": [
    "symbol = string_01.strip()\n",
    "count_symbol = 0\n",
    "for line in symbol:\n",
    "    if line != ' ':\n",
    "        count_symbol += 1\n",
    "print(count_symbol)"
   ]
  },
  {
   "cell_type": "code",
   "execution_count": 34,
   "metadata": {},
   "outputs": [
    {
     "name": "stdout",
     "output_type": "stream",
     "text": [
      "64\n"
     ]
    }
   ],
   "source": [
    "word = string_01.strip().split(' ')\n",
    "count_word = 0\n",
    "for line in word:\n",
    "    if line != ' ':\n",
    "        count_word += 1\n",
    "print(count_word)"
   ]
  },
  {
   "cell_type": "code",
   "execution_count": 38,
   "metadata": {},
   "outputs": [
    {
     "name": "stdout",
     "output_type": "stream",
     "text": [
      "['Mama,', 'just', 'killed', 'a', 'man,', 'put', 'a', 'gun', 'against', 'his', 'head,', 'pulled', 'my', 'trigger,', 'now', 'he', 'is', 'dead.Mama,', 'life', 'had', 'just', 'begun,', 'but', 'now', 'I', 'have', 'gone', 'and', 'thrown', 'it', 'all', 'away.', 'Mama,', 'ooh', '(any', 'way', 'the', 'wind', 'blows),', 'did', 'not', 'mean', 'to', 'make', 'you', 'cry.', 'If', 'I', 'am', 'not', 'back', 'again', 'this', 'time', 'tomorrow', 'carry', 'on,', 'carry', 'on', 'as', 'if', 'nothing', 'really', 'matters.']\n"
     ]
    }
   ],
   "source": [
    "word = string_01.strip().split(' ')\n",
    "print(word)"
   ]
  },
  {
   "cell_type": "code",
   "execution_count": 68,
   "metadata": {},
   "outputs": [],
   "source": [
    "def search_word():\n",
    "    character = input(\"Введите букву: \")\n",
    "    word = string_01.strip().split(' ')\n",
    "    for line in word:\n",
    "        if line[-1] != ',' and line[-1] == character:\n",
    "            print(line)\n",
    "    \n",
    "        if line[-1] == ',' and line[-2] == character:\n",
    "            print(line[0:-1])\n"
   ]
  },
  {
   "cell_type": "code",
   "execution_count": 69,
   "metadata": {},
   "outputs": [
    {
     "name": "stdout",
     "output_type": "stream",
     "text": [
      "Введите букву: a\n",
      "Mama\n",
      "a\n",
      "a\n",
      "dead.Mama\n",
      "Mama\n"
     ]
    }
   ],
   "source": [
    "search_word()"
   ]
  },
  {
   "cell_type": "markdown",
   "metadata": {},
   "source": [
    "## Задание 2"
   ]
  },
  {
   "cell_type": "markdown",
   "metadata": {},
   "source": [
    "Напишите код, который будет генерировать случайную последовательность из 6 цифр, одна из которых должна быть 3. Позиция цифры 3 должна определяться случайным образом. Результат должен быть строкой. Например: \"456309\" или \"330127\"."
   ]
  },
  {
   "cell_type": "code",
   "execution_count": 157,
   "metadata": {},
   "outputs": [
    {
     "name": "stdout",
     "output_type": "stream",
     "text": [
      "703417\n"
     ]
    }
   ],
   "source": [
    "from random import randint\n",
    "number = ''\n",
    "\n",
    "while '3' not in number:\n",
    "    i=0\n",
    "    number = ''\n",
    "    while i != 6:\n",
    "        a = str(randint(0,9))\n",
    "        number = number + a\n",
    "        i += 1\n",
    "print(number)\n"
   ]
  },
  {
   "cell_type": "markdown",
   "metadata": {},
   "source": [
    "## Задание 3\n"
   ]
  },
  {
   "cell_type": "markdown",
   "metadata": {},
   "source": [
    "Дан список. Напишите алгоритм, который выводит сумму элементов списка, которые больше 10, но меньше 100."
   ]
  },
  {
   "cell_type": "code",
   "execution_count": 159,
   "metadata": {},
   "outputs": [],
   "source": [
    "list_01 = [1, 1, 2, 3, 5, 8, 13, 21, 34, 55, 89, 144, 233, 377, 610]"
   ]
  },
  {
   "cell_type": "code",
   "execution_count": 161,
   "metadata": {},
   "outputs": [
    {
     "name": "stdout",
     "output_type": "stream",
     "text": [
      "212\n"
     ]
    }
   ],
   "source": [
    "sum = 0\n",
    "\n",
    "for valu in list_01:\n",
    "    if valu > 10 and valu < 100:\n",
    "        sum = sum + valu\n",
    "print(sum)\n",
    "        "
   ]
  },
  {
   "cell_type": "markdown",
   "metadata": {},
   "source": [
    "Задание 4"
   ]
  },
  {
   "cell_type": "markdown",
   "metadata": {},
   "source": [
    "Данные студентов представлены в виде списка списков:\n",
    "1.Преобразуйте данные таким образом, чтобы они были представлены в виде словаря, в котором ключами являются номера студентов, а значениями — список из других данных о студентах.\n",
    "2.Напишите функцию, которая принимает в качестве аргумента номер студента и новый номер группы и позволяет изменить номер группы этого студента на новый.\n",
    "3.Напишите функцию, которая принимает номер группы и выводит список (фамилии, имена, отчества) всех студентов этой группы."
   ]
  },
  {
   "cell_type": "code",
   "execution_count": 5,
   "metadata": {},
   "outputs": [],
   "source": [
    "students = [     \n",
    "            [\"0001\", \"Антонов\", \"Антон\", \"Игоревич\", \"20.08.2009\", \"БСТ161\"],     \n",
    "            [\"1102\", \"Богов\", \"Артем\", \"Игоревич\", \"25.01.2010\", \"БСТ162\"],\n",
    "            [\"0333\", \"Глаголева\", \"Анастасия\", \"Николаевна\", \"11.07.2009\", \"БСТ163\"],     \n",
    "            [\"4004\", \"Степанова\", \"Наталья\", \"Александровна\", \"13.02.2008\", \"БСТ161\"],     \n",
    "            [\"0045\", \"Боков\", \"Игорь\", \"Харитонович\", \"02.06.2009\", \"БСТ161\"],     \n",
    "            [\"0096\", \"Васильков\", \"Валентин\", \"Сергеевич\", \"20.03.2009\", \"БСТ164\"],     \n",
    "            [\"0607\", \"Сиропова\", \"Виолетта\", \"Эдуардовна\", \"28.05.2010\", \"БСТ162\"],     \n",
    "            [\"0309\", \"Шафутинский\", \"Михаил\", \"Михайлович\", \"03.09.2007\", \"БСТ163\"]             \n",
    "           ]"
   ]
  },
  {
   "cell_type": "code",
   "execution_count": 182,
   "metadata": {},
   "outputs": [
    {
     "name": "stdout",
     "output_type": "stream",
     "text": [
      "{'0001': ['Антонов', 'Антон', 'Игоревич', '20.08.2009', 'БСТ161'], '1102': ['Богов', 'Артем', 'Игоревич', '25.01.2010', 'БСТ162'], '0333': ['Глаголева', 'Анастасия', 'Николаевна', '11.07.2009', 'БСТ163'], '4004': ['Степанова', 'Наталья', 'Александровна', '13.02.2008', 'БСТ161'], '0045': ['Боков', 'Игорь', 'Харитонович', '02.06.2009', 'БСТ161'], '0096': ['Васильков', 'Валентин', 'Сергеевич', '20.03.2009', 'БСТ164'], '0607': ['Сиропова', 'Виолетта', 'Эдуардовна', '28.05.2010', 'БСТ162'], '0309': ['Шафутинский', 'Михаил', 'Михайлович', '03.09.2007', 'БСТ163']}\n"
     ]
    }
   ],
   "source": [
    "dictionary_students = {}\n",
    "\n",
    "for line in students:\n",
    "    numder, *data = line\n",
    "    dictionary_students[numder] = data\n",
    "\n",
    "print(dictionary_students)"
   ]
  },
  {
   "cell_type": "code",
   "execution_count": 10,
   "metadata": {},
   "outputs": [],
   "source": [
    "def search():\n",
    "    number = input(\"Введите номер студента: \")\n",
    "    group = input(\"Введите номер группы: \")\n",
    "    \n",
    "    dictionary_students = {}\n",
    "\n",
    "    for line in students:\n",
    "        numder, *data = line\n",
    "        dictionary_students[numder] = data\n",
    "    \n",
    "    name1, name2, name3, dat, group_old = dictionary_students.get(number)\n",
    "    group_old = group\n",
    "    print(dictionary_students.get(number))\n",
    "    \n",
    "    "
   ]
  },
  {
   "cell_type": "code",
   "execution_count": 11,
   "metadata": {},
   "outputs": [
    {
     "name": "stdout",
     "output_type": "stream",
     "text": [
      "Введите номер студента: 0001\n",
      "Введите номер группы: 1\n",
      "['Антонов', 'Антон', 'Игоревич', '20.08.2009', 'БСТ161']\n"
     ]
    }
   ],
   "source": [
    "search()"
   ]
  },
  {
   "cell_type": "markdown",
   "metadata": {},
   "source": [
    "Задача 5 Дана матрица:"
   ]
  },
  {
   "cell_type": "markdown",
   "metadata": {},
   "source": [
    "Дана матрица:\n",
    "1.Выведите результат сложения всех элементов матрицы.\n",
    "2.Напишите алгоритм вычисления максимума из сумм элементов каждого столбца."
   ]
  },
  {
   "cell_type": "code",
   "execution_count": 175,
   "metadata": {},
   "outputs": [],
   "source": [
    "matrix = [ \n",
    "    [0, 1, 2, 4, 8], \n",
    "    [6, 2, 2, 1, 9], \n",
    "    [3, 3, 3, 3, 3], \n",
    "    [4, 6, 7, 1, 2], \n",
    "    [5, 7, 3, 4, 0] \n",
    "    ]"
   ]
  },
  {
   "cell_type": "code",
   "execution_count": 176,
   "metadata": {},
   "outputs": [
    {
     "name": "stdout",
     "output_type": "stream",
     "text": [
      "89\n"
     ]
    }
   ],
   "source": [
    "sum=0\n",
    "for line in matrix:\n",
    "    for valu in line:\n",
    "        sum = sum + valu\n",
    "print(sum)"
   ]
  },
  {
   "cell_type": "code",
   "execution_count": 178,
   "metadata": {},
   "outputs": [
    {
     "name": "stdout",
     "output_type": "stream",
     "text": [
      "22\n"
     ]
    }
   ],
   "source": [
    "i = 0\n",
    "sum_list = []\n",
    "\n",
    "while i != len(line):\n",
    "    sum = 0\n",
    "    for line in matrix:\n",
    "        sum = sum + line[i]\n",
    "    sum_list.append(sum)\n",
    "    i += 1\n",
    "\n",
    "max = sum_list[0]\n",
    "for i in sum_list:\n",
    "    if i > max:\n",
    "        max = i\n",
    "\n",
    "print(m)"
   ]
  },
  {
   "cell_type": "code",
   "execution_count": null,
   "metadata": {},
   "outputs": [],
   "source": []
  }
 ],
 "metadata": {
  "kernelspec": {
   "display_name": "Python 3",
   "language": "python",
   "name": "python3"
  }
 },
 "nbformat": 4,
 "nbformat_minor": 2
}
